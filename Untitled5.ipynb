{
 "cells": [
  {
   "cell_type": "markdown",
   "id": "e6bee149-a2d2-4eaf-b279-d9c2b0f34ab3",
   "metadata": {},
   "source": [
    "<h1 style = \"text-align:center; font-size: 30px\">PROGRAMACIÓN CONCURRENTE Y DISTRIBUIDA</h1>\n",
    "<a href =\"https://github.com/PelayoVT\">\n",
    "<img src=\"https://avatars.githubusercontent.com/u/102515287?v=4\" style=\"float:left;vertical-align:centre\" width=\"110\" height=\"110\" title = \"Pelayo Vázquez Toledo 22166209\">\n",
    "<a href =\"https://github.com/PelayoVT?tab=repositories\">\n",
    "<img src=\"https://media-exp1.licdn.com/dms/image/C4D0BAQEu_Aa76fcmPw/company-logo_200_200/0/1630998679429?e=2159024400&v=beta&t=2feC9GG7RWCWizTqsK5HzDWB1TL2DOQuAVwnMf6FFvk\" title = \"M21\" alt=\"UE\" width=\"110\" height=\"110\" style=\"float:right;vertical-align:centre\">\n",
    "\n",
    "\n"
   ]
  },
  {
   "cell_type": "markdown",
   "id": "dc3e9011-94c4-49ed-b427-607d2e94d9ee",
   "metadata": {},
   "source": [
    "# Tipos de operaciones sobre files\n",
    "## rawx\n",
    "r = read;\n",
    "a = append; \n",
    "w = write;\n",
    "x = create;"
   ]
  },
  {
   "cell_type": "code",
   "execution_count": 11,
   "id": "bd506b25-3bb2-4ed1-a10c-377736658a91",
   "metadata": {},
   "outputs": [
    {
     "name": "stdin",
     "output_type": "stream",
     "text": [
      "Ingresa tu nickname:  Pelayo\n",
      "Ingresa tu número de expediente 23213\n",
      "Escriba el mensaje usgdyasd\n"
     ]
    },
    {
     "ename": "KeyboardInterrupt",
     "evalue": "Interrupted by user",
     "output_type": "error",
     "traceback": [
      "\u001b[1;31m---------------------------------------------------------------------------\u001b[0m",
      "\u001b[1;31mKeyboardInterrupt\u001b[0m                         Traceback (most recent call last)",
      "Cell \u001b[1;32mIn [11], line 3\u001b[0m\n\u001b[0;32m      1\u001b[0m \u001b[38;5;28;01mwhile\u001b[39;00m \u001b[38;5;28;01mTrue\u001b[39;00m:\n\u001b[0;32m      2\u001b[0m     \u001b[38;5;28;01mwith\u001b[39;00m \u001b[38;5;28mopen\u001b[39m(\u001b[38;5;124m\"\u001b[39m\u001b[38;5;124m22166209.txt\u001b[39m\u001b[38;5;124m\"\u001b[39m, \u001b[38;5;124m\"\u001b[39m\u001b[38;5;124ma\u001b[39m\u001b[38;5;124m\"\u001b[39m) \u001b[38;5;28;01mas\u001b[39;00m f:\n\u001b[1;32m----> 3\u001b[0m         nick \u001b[38;5;241m=\u001b[39m \u001b[38;5;28;43minput\u001b[39;49m\u001b[43m(\u001b[49m\u001b[38;5;124;43m\"\u001b[39;49m\u001b[38;5;124;43mIngresa tu nickname: \u001b[39;49m\u001b[38;5;124;43m\"\u001b[39;49m\u001b[43m)\u001b[49m\n\u001b[0;32m      4\u001b[0m         expediente \u001b[38;5;241m=\u001b[39m \u001b[38;5;28minput\u001b[39m(\u001b[38;5;124m\"\u001b[39m\u001b[38;5;124mIngresa tu número de expediente\u001b[39m\u001b[38;5;124m\"\u001b[39m)\n\u001b[0;32m      5\u001b[0m         msg \u001b[38;5;241m=\u001b[39m \u001b[38;5;28minput\u001b[39m(\u001b[38;5;124m\"\u001b[39m\u001b[38;5;124mEscriba el mensaje\u001b[39m\u001b[38;5;124m\"\u001b[39m)\n",
      "File \u001b[1;32m~\\AppData\\Local\\Programs\\Python\\Python310\\lib\\site-packages\\ipykernel\\kernelbase.py:1177\u001b[0m, in \u001b[0;36mKernel.raw_input\u001b[1;34m(self, prompt)\u001b[0m\n\u001b[0;32m   1173\u001b[0m \u001b[38;5;28;01mif\u001b[39;00m \u001b[38;5;129;01mnot\u001b[39;00m \u001b[38;5;28mself\u001b[39m\u001b[38;5;241m.\u001b[39m_allow_stdin:\n\u001b[0;32m   1174\u001b[0m     \u001b[38;5;28;01mraise\u001b[39;00m StdinNotImplementedError(\n\u001b[0;32m   1175\u001b[0m         \u001b[38;5;124m\"\u001b[39m\u001b[38;5;124mraw_input was called, but this frontend does not support input requests.\u001b[39m\u001b[38;5;124m\"\u001b[39m\n\u001b[0;32m   1176\u001b[0m     )\n\u001b[1;32m-> 1177\u001b[0m \u001b[38;5;28;01mreturn\u001b[39;00m \u001b[38;5;28;43mself\u001b[39;49m\u001b[38;5;241;43m.\u001b[39;49m\u001b[43m_input_request\u001b[49m\u001b[43m(\u001b[49m\n\u001b[0;32m   1178\u001b[0m \u001b[43m    \u001b[49m\u001b[38;5;28;43mstr\u001b[39;49m\u001b[43m(\u001b[49m\u001b[43mprompt\u001b[49m\u001b[43m)\u001b[49m\u001b[43m,\u001b[49m\n\u001b[0;32m   1179\u001b[0m \u001b[43m    \u001b[49m\u001b[38;5;28;43mself\u001b[39;49m\u001b[38;5;241;43m.\u001b[39;49m\u001b[43m_parent_ident\u001b[49m\u001b[43m[\u001b[49m\u001b[38;5;124;43m\"\u001b[39;49m\u001b[38;5;124;43mshell\u001b[39;49m\u001b[38;5;124;43m\"\u001b[39;49m\u001b[43m]\u001b[49m\u001b[43m,\u001b[49m\n\u001b[0;32m   1180\u001b[0m \u001b[43m    \u001b[49m\u001b[38;5;28;43mself\u001b[39;49m\u001b[38;5;241;43m.\u001b[39;49m\u001b[43mget_parent\u001b[49m\u001b[43m(\u001b[49m\u001b[38;5;124;43m\"\u001b[39;49m\u001b[38;5;124;43mshell\u001b[39;49m\u001b[38;5;124;43m\"\u001b[39;49m\u001b[43m)\u001b[49m\u001b[43m,\u001b[49m\n\u001b[0;32m   1181\u001b[0m \u001b[43m    \u001b[49m\u001b[43mpassword\u001b[49m\u001b[38;5;241;43m=\u001b[39;49m\u001b[38;5;28;43;01mFalse\u001b[39;49;00m\u001b[43m,\u001b[49m\n\u001b[0;32m   1182\u001b[0m \u001b[43m\u001b[49m\u001b[43m)\u001b[49m\n",
      "File \u001b[1;32m~\\AppData\\Local\\Programs\\Python\\Python310\\lib\\site-packages\\ipykernel\\kernelbase.py:1219\u001b[0m, in \u001b[0;36mKernel._input_request\u001b[1;34m(self, prompt, ident, parent, password)\u001b[0m\n\u001b[0;32m   1216\u001b[0m             \u001b[38;5;28;01mbreak\u001b[39;00m\n\u001b[0;32m   1217\u001b[0m \u001b[38;5;28;01mexcept\u001b[39;00m \u001b[38;5;167;01mKeyboardInterrupt\u001b[39;00m:\n\u001b[0;32m   1218\u001b[0m     \u001b[38;5;66;03m# re-raise KeyboardInterrupt, to truncate traceback\u001b[39;00m\n\u001b[1;32m-> 1219\u001b[0m     \u001b[38;5;28;01mraise\u001b[39;00m \u001b[38;5;167;01mKeyboardInterrupt\u001b[39;00m(\u001b[38;5;124m\"\u001b[39m\u001b[38;5;124mInterrupted by user\u001b[39m\u001b[38;5;124m\"\u001b[39m) \u001b[38;5;28;01mfrom\u001b[39;00m \u001b[38;5;28mNone\u001b[39m\n\u001b[0;32m   1220\u001b[0m \u001b[38;5;28;01mexcept\u001b[39;00m \u001b[38;5;167;01mException\u001b[39;00m:\n\u001b[0;32m   1221\u001b[0m     \u001b[38;5;28mself\u001b[39m\u001b[38;5;241m.\u001b[39mlog\u001b[38;5;241m.\u001b[39mwarning(\u001b[38;5;124m\"\u001b[39m\u001b[38;5;124mInvalid Message:\u001b[39m\u001b[38;5;124m\"\u001b[39m, exc_info\u001b[38;5;241m=\u001b[39m\u001b[38;5;28;01mTrue\u001b[39;00m)\n",
      "\u001b[1;31mKeyboardInterrupt\u001b[0m: Interrupted by user"
     ]
    }
   ],
   "source": [
    "while True:\n",
    "    with open(\"22166209.txt\", \"a\") as f:\n",
    "        nick = input(\"Ingresa tu nickname: \")\n",
    "        msg = input(\"Escriba el mensaje: \")\n",
    "        f.write(\"\\n\" + nick + \"\\n\" + expediente + \"\\n\" + msg)\n",
    "    "
   ]
  },
  {
   "cell_type": "code",
   "execution_count": 2,
   "id": "d38ffbf7-b5c7-42e9-b295-56435017c95b",
   "metadata": {},
   "outputs": [
    {
     "name": "stdout",
     "output_type": "stream",
     "text": [
      " El volumen de la unidad C no tiene etiqueta.\n",
      " El n£mero de serie del volumen es: F032-ADFE\n",
      "\n",
      " Directorio de C:\\PCD\n",
      "\n",
      "16/11/2022  18:13                 0 22166209.txt\n",
      "               1 archivos              0 bytes\n",
      "               0 dirs  398.026.514.432 bytes libres\n"
     ]
    }
   ],
   "source": [
    "ls 22166209.txt"
   ]
  },
  {
   "cell_type": "code",
   "execution_count": 12,
   "id": "8d9d7d9c-4953-415b-a35f-ca4b2c5322a5",
   "metadata": {},
   "outputs": [
    {
     "data": {
      "text/plain": [
       "Pelayo22166209Muchas tardes y buenas graciasPelayo 22166209 Muchas tardes y buenas gracias\n",
       "Pelayo\n",
       "23213\n",
       "usgdyasd"
      ]
     },
     "metadata": {},
     "output_type": "display_data"
    }
   ],
   "source": [
    "less 22166209.txt"
   ]
  },
  {
   "cell_type": "code",
   "execution_count": 3,
   "id": "98f7508c-cc7a-48ef-9695-d6bbf8956fd4",
   "metadata": {},
   "outputs": [
    {
     "name": "stdin",
     "output_type": "stream",
     "text": [
      "Ingresa tu nickname:  Pelayo\n"
     ]
    }
   ],
   "source": [
    "nick = input(\"Ingresa tu nickname: \")"
   ]
  },
  {
   "cell_type": "code",
   "execution_count": 31,
   "id": "e1d108ab-8e64-443f-ac66-9099546f7c7c",
   "metadata": {},
   "outputs": [
    {
     "data": {
      "text/plain": [
       "'Pelayo'"
      ]
     },
     "execution_count": 31,
     "metadata": {},
     "output_type": "execute_result"
    }
   ],
   "source": [
    "nick"
   ]
  },
  {
   "cell_type": "code",
   "execution_count": 4,
   "id": "f85adc04-cfdb-4a85-9238-6f968c43e273",
   "metadata": {},
   "outputs": [
    {
     "name": "stdin",
     "output_type": "stream",
     "text": [
      "Ingresa tu número de expediente 22166209\n"
     ]
    }
   ],
   "source": [
    "expediente = input(\"Ingresa tu número de expediente\")"
   ]
  },
  {
   "cell_type": "code",
   "execution_count": 33,
   "id": "4049243c-1af9-4241-a162-a3179d731a82",
   "metadata": {},
   "outputs": [
    {
     "data": {
      "text/plain": [
       "'22166209'"
      ]
     },
     "execution_count": 33,
     "metadata": {},
     "output_type": "execute_result"
    }
   ],
   "source": [
    "expediente"
   ]
  },
  {
   "cell_type": "code",
   "execution_count": 13,
   "id": "5c3dbc97-5227-4506-9be8-61c036eb35b2",
   "metadata": {},
   "outputs": [
    {
     "name": "stdin",
     "output_type": "stream",
     "text": [
      "Escriba el mensaje \n"
     ]
    }
   ],
   "source": [
    "msg = input(\"Escriba el mensaje\")"
   ]
  },
  {
   "cell_type": "markdown",
   "id": "e3fe395f-d908-47b7-a2c0-996e9bcdf39e",
   "metadata": {},
   "source": [
    "# Posible al 100% pregunta de examen"
   ]
  },
  {
   "cell_type": "code",
   "execution_count": 14,
   "id": "e3820b76-80e2-453b-ad28-f70ebc3571e5",
   "metadata": {},
   "outputs": [],
   "source": [
    "import socket as sc"
   ]
  },
  {
   "cell_type": "code",
   "execution_count": 19,
   "id": "238c42aa-54f9-4973-b653-0e1f3baed143",
   "metadata": {},
   "outputs": [
    {
     "data": {
      "text/plain": [
       "('DESKTOP-A46BUU3', [], ['10.100.4.18'])"
      ]
     },
     "execution_count": 19,
     "metadata": {},
     "output_type": "execute_result"
    }
   ],
   "source": [
    "sc.gethostbyname_ex(sc.gethostname())"
   ]
  },
  {
   "cell_type": "code",
   "execution_count": 23,
   "id": "c8c7d06f-503c-42c6-9610-8980fa189452",
   "metadata": {},
   "outputs": [
    {
     "name": "stdout",
     "output_type": "stream",
     "text": [
      "\n",
      "Haciendo ping a 10.100.4.18 con 32 bytes de datos:\n",
      "Respuesta desde 10.100.4.18: bytes=32 tiempo<1m TTL=128\n",
      "Respuesta desde 10.100.4.18: bytes=32 tiempo<1m TTL=128\n",
      "Respuesta desde 10.100.4.18: bytes=32 tiempo<1m TTL=128\n",
      "Respuesta desde 10.100.4.18: bytes=32 tiempo<1m TTL=128\n",
      "\n",
      "Estad¡sticas de ping para 10.100.4.18:\n",
      "    Paquetes: enviados = 4, recibidos = 4, perdidos = 0\n",
      "    (0% perdidos),\n",
      "Tiempos aproximados de ida y vuelta en milisegundos:\n",
      "    M¡nimo = 0ms, M ximo = 0ms, Media = 0ms\n"
     ]
    }
   ],
   "source": [
    "!ping 10.100.4.18"
   ]
  },
  {
   "cell_type": "code",
   "execution_count": 24,
   "id": "053844c3-65ed-4ce9-8f60-29ef65c8d5f8",
   "metadata": {},
   "outputs": [],
   "source": [
    "url_ = \"www.universidadeuropea.es\""
   ]
  },
  {
   "cell_type": "code",
   "execution_count": 25,
   "id": "0048dc97-1eee-4aa2-9645-b3e06bb97e1a",
   "metadata": {},
   "outputs": [
    {
     "data": {
      "text/plain": [
       "('www.universidadeuropea.es', [], ['34.98.96.131'])"
      ]
     },
     "execution_count": 25,
     "metadata": {},
     "output_type": "execute_result"
    }
   ],
   "source": [
    "sc.gethostbyname_ex(url_)"
   ]
  },
  {
   "cell_type": "code",
   "execution_count": 26,
   "id": "e7c052d2-d0b2-41e8-939c-e8ba7dec8760",
   "metadata": {},
   "outputs": [],
   "source": [
    "s = sc.socket()"
   ]
  },
  {
   "cell_type": "code",
   "execution_count": null,
   "id": "a284617d-4eba-4eaf-afd9-86e117f6fbb2",
   "metadata": {},
   "outputs": [],
   "source": [
    "s.connect((\"www.universidadeuropea.es\", 45))"
   ]
  }
 ],
 "metadata": {
  "kernelspec": {
   "display_name": "Python 3 (ipykernel)",
   "language": "python",
   "name": "python3"
  },
  "language_info": {
   "codemirror_mode": {
    "name": "ipython",
    "version": 3
   },
   "file_extension": ".py",
   "mimetype": "text/x-python",
   "name": "python",
   "nbconvert_exporter": "python",
   "pygments_lexer": "ipython3",
   "version": "3.10.7"
  }
 },
 "nbformat": 4,
 "nbformat_minor": 5
}
