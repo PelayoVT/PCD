{
 "cells": [
  {
   "cell_type": "markdown",
   "id": "86cd18e2-ed11-4cb6-8be7-8594577ac8ce",
   "metadata": {},
   "source": [
    "<h1 style = \"text-align:center; font-size: 30px\">PROGRAMACIÓN CONCURRENTE Y DISTRIBUIDA</h1>\n",
    "<a href =\"https://github.com/PelayoVT\">\n",
    "<img src=\"https://avatars.githubusercontent.com/u/102515287?v=4\" style=\"float:left;vertical-align:centre\" width=\"110\" height=\"110\" title = \"Pelayo Vázquez Toledo 22166209\">\n",
    "<a href =\"https://github.com/PelayoVT/PCD\">\n",
    "<img src=\"https://media-exp1.licdn.com/dms/image/C4D0BAQEu_Aa76fcmPw/company-logo_200_200/0/1630998679429?e=2159024400&v=beta&t=2feC9GG7RWCWizTqsK5HzDWB1TL2DOQuAVwnMf6FFvk\" title = \"M21\" alt=\"UE\" width=\"110\" height=\"110\" style=\"float:right;vertical-align:centre\">\n"
   ]
  },
  {
   "cell_type": "markdown",
   "id": "65328ff7-329e-41b3-b535-fded7572ade3",
   "metadata": {},
   "source": [
    "# Memoria Actividad Individual 1"
   ]
  },
  {
   "cell_type": "markdown",
   "id": "fedf8db9-132a-44c8-9578-95d2512670af",
   "metadata": {},
   "source": [
    "## Tenemos en cuenta que al trabajar con un programa base dado por el profesor en la memoria se comentarán los cambios añadidos a las funciones y las nuevas funciones."
   ]
  },
  {
   "cell_type": "code",
   "execution_count": 1,
   "id": "44bcae5c-7bda-4b41-8944-07ea34632eed",
   "metadata": {},
   "outputs": [],
   "source": [
    "from IPython import display as dp"
   ]
  },
  {
   "cell_type": "markdown",
   "id": "7dfef638-2950-450c-ae78-e22d07ea98f7",
   "metadata": {},
   "source": [
    "Importamos las librerías necesarias tanto en el servidor como en el cliente"
   ]
  },
  {
   "cell_type": "code",
   "execution_count": 7,
   "id": "77af6044-fa21-487f-9d26-0076c43e2511",
   "metadata": {},
   "outputs": [],
   "source": [
    "import socket\t\t\t\t\t\t\t\t\t#libreria para comunicarse con otra consola\n",
    "import threading\t\t\t\t\t\t\t\t#libreria para hilos\n",
    "import sys\t\t\t\t\t\t\t\t\t\t#libreria para hablar con el sistema\n",
    "import pickle\t\t\t\t\t\t\t\t\t#pasar a binario (serializar y desserializar)\n",
    "import os\t\t\t\t\t\t\t\t\t\t#hablar con el sistema operativo"
   ]
  },
  {
   "cell_type": "markdown",
   "id": "4f5b5e4d-b02b-4c3b-a783-dce2bf7029f1",
   "metadata": {},
   "source": [
    "### Cliente"
   ]
  },
  {
   "cell_type": "code",
   "execution_count": null,
   "id": "faabbde4-e65a-498c-8230-eff57243886f",
   "metadata": {},
   "outputs": [],
   "source": [
    "\tdef __init__(self, host=input(\"Intoduzca la IP del servidor ?  \"), port=int(input(\"Intoduzca el PUERTO del servidor ?  \")), nick=\"\"): #pide el host y el puerto por el que se va a conectar\n",
    "\t\tself.s = socket.socket() #creo el shocket\n",
    "\t\twhile (nick ==\"\"):\n",
    "\t\t\tnick = input (\"Introduce tu nombre de usuario: \")\n",
    "\t\tself.nick = nick\n",
    "\t\twith open(\"nicknameList.txt\", \"a\") as f:  #creo el archivo donde se almacenan los usuarios\n",
    "\t\t\tf.write(self.nick + \"\\n\")\n",
    "\t\tself.s.connect((host, int(port)))  #creamos la conexión"
   ]
  },
  {
   "cell_type": "markdown",
   "id": "6cfdb92b-c671-41b0-967f-87bafe71641f",
   "metadata": {},
   "source": [
    "En la función init hemos declarada e inicializada la variable nick, al igual añadimos un bucle para que pida el nombre mientras este campo este vacío y después modificamos la lista de nombres. "
   ]
  },
  {
   "cell_type": "code",
   "execution_count": null,
   "id": "8640a39c-fcd6-46b3-a54a-cacfff40e12f",
   "metadata": {},
   "outputs": [],
   "source": [
    "\tdef deleteNick(self, nick):\n",
    "\t\tlines = []\n",
    "\t\twith open(\"nicknameList.txt\", \"r\") as f:    #abrimos en modo lectura el txt\n",
    "\t\t\tnicknames = f.readlines()\n",
    "\t\t\tfor n in nicknames:\n",
    "\t\t\t\tif (nick not in n):\n",
    "\t\t\t\t\tlines.append(n)\n",
    "\t\twith open (\"nicknameList.txt\", \"w\") as f:   #abrimos en modo escritura el txt para sobreescribir los datos \n",
    "\t\t\tfor n in lines:\n",
    "\t\t\t\tf.write(n)"
   ]
  },
  {
   "cell_type": "markdown",
   "id": "41f190a7-40ee-4cac-966c-02e3362871ed",
   "metadata": {},
   "source": [
    "Creamos una función para borrar el nick al salir del programa"
   ]
  },
  {
   "cell_type": "code",
   "execution_count": null,
   "id": "45314d23-b599-46a5-b52e-0e553f1925b2",
   "metadata": {},
   "outputs": [],
   "source": [
    "\tdef enviar(self, msg):\n",
    "\t\tself.s.send(pickle.dumps(self.nick + \": \" + msg))\n",
    "        \n",
    "\t\twith open (\"u22166209AI1.txt\", \"a\") as f:\n",
    "\t\t\tf.write(self.nick + \" : \" + msg + \"\\n\")"
   ]
  },
  {
   "cell_type": "markdown",
   "id": "c6336502-20f4-4f9d-9711-d63f4d8e0ec2",
   "metadata": {},
   "source": [
    "Y en esta última parte añadimos que envie el usuario con el mensaje y que dichos mensajes se almacenen en el historial."
   ]
  },
  {
   "cell_type": "markdown",
   "id": "e437957d-d89a-469c-9cbf-d653640ea332",
   "metadata": {},
   "source": [
    "### Servidor"
   ]
  },
  {
   "cell_type": "code",
   "execution_count": null,
   "id": "0af07f22-b84c-44bc-8af1-3981281ebed6",
   "metadata": {},
   "outputs": [],
   "source": [
    "\t\twhile True: #función que cierra el servidor al intruducir \"1\"\n",
    "\t\t\tmsg = input('\\n << SALIR = 1 >> \\n')\n",
    "\t\t\tif msg == '1':\n",
    "\t\t\t\tprint(\" **** Me piro vampiro; cierro socket y mato SERVER con PID = \", os.getpid())\n",
    "\t\t\t\twith open(\"nicknameList.txt\", \"w\") as f:\n",
    "\t\t\t\t\tf.write(\" \")\n",
    "\t\t\t\tself.s.close()\n",
    "\t\t\t\tsys.exit()\n",
    "\t\t\telse: pass"
   ]
  },
  {
   "cell_type": "markdown",
   "id": "c22c2cd5-c51c-4c27-a792-9bb4baab0226",
   "metadata": {},
   "source": [
    "##### En la función para cerrar el servidor añadimos que sobreescriba la lista de usuarios a \" \""
   ]
  },
  {
   "cell_type": "code",
   "execution_count": null,
   "id": "0c6efcd2-ef31-4bb9-8985-02195623202e",
   "metadata": {},
   "outputs": [],
   "source": [
    "\tdef readNick(self):\n",
    "\t\twith open(\"nicknameList.txt\", \"r\") as f:\n",
    "\t\t\tprint(\"Clientes conectados actualmente \\n--------------------------\" + f.read() + \"--------------------------\")   #leemos el archivo de los\n",
    "            #nombre para mostrar los usuarios actuales"
   ]
  },
  {
   "cell_type": "markdown",
   "id": "c054732e-ba74-416f-aa9b-7b2368b58e8a",
   "metadata": {},
   "source": [
    "Creamos la función para que muestre los usuarios conectados en el menú del servidor"
   ]
  },
  {
   "cell_type": "code",
   "execution_count": null,
   "id": "cd697a7b-2300-4937-b1c0-4a8054851a15",
   "metadata": {},
   "outputs": [],
   "source": [
    "\tdef broadcast(self, msg, cliente):\n",
    "\t\tauxiliar = 0\n",
    "\t\tfor c in self.clientes:\n",
    "\t\t\ttry:\n",
    "\t\t\t\tif c != cliente:\n",
    "\t\t\t\t\tif auxiliar == 0:\n",
    "\t\t\t\t\t\tprint(\"Clientes conectados actualmente = \", len(self.clientes))\n",
    "\t\t\t\t\t\tself.readNick()\n",
    "\t\t\t\t\t\tprint(pickle.loads(msg))\n",
    "\t\t\t\t\t\tauxiliar = 1\n",
    "\t\t\t\t\tc.send(msg)\n",
    "\t\t\texcept: self.clientes.remove(c)"
   ]
  },
  {
   "cell_type": "markdown",
   "id": "a49b5482-3f19-4f0b-9825-1ef9ab13bc8e",
   "metadata": {},
   "source": [
    "Y en el broadcast añadimos una llamada a la función comentada anteriormente (readNick)"
   ]
  },
  {
   "cell_type": "markdown",
   "id": "2dd7cda5-2785-481b-bc7b-5fce68bac88b",
   "metadata": {},
   "source": [
    "### Guía de usuario"
   ]
  },
  {
   "cell_type": "markdown",
   "id": "0bbac28f-362e-497a-b2a5-d04a1f071436",
   "metadata": {},
   "source": [
    "Aquí se demuestra el funcionamiento del programa, con la instanciación de un servidor y 6 clientes, en los que se ve los usuarios que participan y todos los requisitos del código"
   ]
  },
  {
   "cell_type": "code",
   "execution_count": null,
   "id": "d8f118c8-23f7-43e9-8309-85479784f78d",
   "metadata": {},
   "outputs": [
    {
     "ename": "FileNotFoundError",
     "evalue": "No such file or directory: 'Funcionamiento del programa.pdf'",
     "output_type": "error",
     "traceback": [
      "\u001b[1;31m---------------------------------------------------------------------------\u001b[0m",
      "\u001b[1;31mTypeError\u001b[0m                                 Traceback (most recent call last)",
      "File \u001b[1;32m~\\AppData\\Local\\Programs\\Python\\Python310\\lib\\site-packages\\IPython\\core\\display.py:1032\u001b[0m, in \u001b[0;36mImage._data_and_metadata\u001b[1;34m(self, always_both)\u001b[0m\n\u001b[0;32m   1031\u001b[0m \u001b[38;5;28;01mtry\u001b[39;00m:\n\u001b[1;32m-> 1032\u001b[0m     b64_data \u001b[38;5;241m=\u001b[39m \u001b[43mb2a_base64\u001b[49m\u001b[43m(\u001b[49m\u001b[38;5;28;43mself\u001b[39;49m\u001b[38;5;241;43m.\u001b[39;49m\u001b[43mdata\u001b[49m\u001b[43m)\u001b[49m\u001b[38;5;241m.\u001b[39mdecode(\u001b[38;5;124m'\u001b[39m\u001b[38;5;124mascii\u001b[39m\u001b[38;5;124m'\u001b[39m)\n\u001b[0;32m   1033\u001b[0m \u001b[38;5;28;01mexcept\u001b[39;00m \u001b[38;5;167;01mTypeError\u001b[39;00m \u001b[38;5;28;01mas\u001b[39;00m e:\n",
      "\u001b[1;31mTypeError\u001b[0m: a bytes-like object is required, not 'str'",
      "\nThe above exception was the direct cause of the following exception:\n",
      "\u001b[1;31mFileNotFoundError\u001b[0m                         Traceback (most recent call last)",
      "File \u001b[1;32m~\\AppData\\Local\\Programs\\Python\\Python310\\lib\\site-packages\\IPython\\core\\formatters.py:973\u001b[0m, in \u001b[0;36mMimeBundleFormatter.__call__\u001b[1;34m(self, obj, include, exclude)\u001b[0m\n\u001b[0;32m    970\u001b[0m     method \u001b[38;5;241m=\u001b[39m get_real_method(obj, \u001b[38;5;28mself\u001b[39m\u001b[38;5;241m.\u001b[39mprint_method)\n\u001b[0;32m    972\u001b[0m     \u001b[38;5;28;01mif\u001b[39;00m method \u001b[38;5;129;01mis\u001b[39;00m \u001b[38;5;129;01mnot\u001b[39;00m \u001b[38;5;28;01mNone\u001b[39;00m:\n\u001b[1;32m--> 973\u001b[0m         \u001b[38;5;28;01mreturn\u001b[39;00m \u001b[43mmethod\u001b[49m\u001b[43m(\u001b[49m\u001b[43minclude\u001b[49m\u001b[38;5;241;43m=\u001b[39;49m\u001b[43minclude\u001b[49m\u001b[43m,\u001b[49m\u001b[43m \u001b[49m\u001b[43mexclude\u001b[49m\u001b[38;5;241;43m=\u001b[39;49m\u001b[43mexclude\u001b[49m\u001b[43m)\u001b[49m\n\u001b[0;32m    974\u001b[0m     \u001b[38;5;28;01mreturn\u001b[39;00m \u001b[38;5;28;01mNone\u001b[39;00m\n\u001b[0;32m    975\u001b[0m \u001b[38;5;28;01melse\u001b[39;00m:\n",
      "File \u001b[1;32m~\\AppData\\Local\\Programs\\Python\\Python310\\lib\\site-packages\\IPython\\core\\display.py:1022\u001b[0m, in \u001b[0;36mImage._repr_mimebundle_\u001b[1;34m(self, include, exclude)\u001b[0m\n\u001b[0;32m   1020\u001b[0m \u001b[38;5;28;01mif\u001b[39;00m \u001b[38;5;28mself\u001b[39m\u001b[38;5;241m.\u001b[39membed:\n\u001b[0;32m   1021\u001b[0m     mimetype \u001b[38;5;241m=\u001b[39m \u001b[38;5;28mself\u001b[39m\u001b[38;5;241m.\u001b[39m_mimetype\n\u001b[1;32m-> 1022\u001b[0m     data, metadata \u001b[38;5;241m=\u001b[39m \u001b[38;5;28;43mself\u001b[39;49m\u001b[38;5;241;43m.\u001b[39;49m\u001b[43m_data_and_metadata\u001b[49m\u001b[43m(\u001b[49m\u001b[43malways_both\u001b[49m\u001b[38;5;241;43m=\u001b[39;49m\u001b[38;5;28;43;01mTrue\u001b[39;49;00m\u001b[43m)\u001b[49m\n\u001b[0;32m   1023\u001b[0m     \u001b[38;5;28;01mif\u001b[39;00m metadata:\n\u001b[0;32m   1024\u001b[0m         metadata \u001b[38;5;241m=\u001b[39m {mimetype: metadata}\n",
      "File \u001b[1;32m~\\AppData\\Local\\Programs\\Python\\Python310\\lib\\site-packages\\IPython\\core\\display.py:1034\u001b[0m, in \u001b[0;36mImage._data_and_metadata\u001b[1;34m(self, always_both)\u001b[0m\n\u001b[0;32m   1032\u001b[0m     b64_data \u001b[38;5;241m=\u001b[39m b2a_base64(\u001b[38;5;28mself\u001b[39m\u001b[38;5;241m.\u001b[39mdata)\u001b[38;5;241m.\u001b[39mdecode(\u001b[38;5;124m'\u001b[39m\u001b[38;5;124mascii\u001b[39m\u001b[38;5;124m'\u001b[39m)\n\u001b[0;32m   1033\u001b[0m \u001b[38;5;28;01mexcept\u001b[39;00m \u001b[38;5;167;01mTypeError\u001b[39;00m \u001b[38;5;28;01mas\u001b[39;00m e:\n\u001b[1;32m-> 1034\u001b[0m     \u001b[38;5;28;01mraise\u001b[39;00m \u001b[38;5;167;01mFileNotFoundError\u001b[39;00m(\n\u001b[0;32m   1035\u001b[0m         \u001b[38;5;124m\"\u001b[39m\u001b[38;5;124mNo such file or directory: \u001b[39m\u001b[38;5;124m'\u001b[39m\u001b[38;5;132;01m%s\u001b[39;00m\u001b[38;5;124m'\u001b[39m\u001b[38;5;124m\"\u001b[39m \u001b[38;5;241m%\u001b[39m (\u001b[38;5;28mself\u001b[39m\u001b[38;5;241m.\u001b[39mdata)) \u001b[38;5;28;01mfrom\u001b[39;00m \u001b[38;5;21;01me\u001b[39;00m\n\u001b[0;32m   1036\u001b[0m md \u001b[38;5;241m=\u001b[39m {}\n\u001b[0;32m   1037\u001b[0m \u001b[38;5;28;01mif\u001b[39;00m \u001b[38;5;28mself\u001b[39m\u001b[38;5;241m.\u001b[39mmetadata:\n",
      "\u001b[1;31mFileNotFoundError\u001b[0m: No such file or directory: 'Funcionamiento del programa.pdf'"
     ]
    },
    {
     "ename": "FileNotFoundError",
     "evalue": "No such file or directory: 'Funcionamiento del programa.pdf'",
     "output_type": "error",
     "traceback": [
      "\u001b[1;31m---------------------------------------------------------------------------\u001b[0m",
      "\u001b[1;31mTypeError\u001b[0m                                 Traceback (most recent call last)",
      "File \u001b[1;32m~\\AppData\\Local\\Programs\\Python\\Python310\\lib\\site-packages\\IPython\\core\\display.py:1032\u001b[0m, in \u001b[0;36mImage._data_and_metadata\u001b[1;34m(self, always_both)\u001b[0m\n\u001b[0;32m   1031\u001b[0m \u001b[38;5;28;01mtry\u001b[39;00m:\n\u001b[1;32m-> 1032\u001b[0m     b64_data \u001b[38;5;241m=\u001b[39m \u001b[43mb2a_base64\u001b[49m\u001b[43m(\u001b[49m\u001b[38;5;28;43mself\u001b[39;49m\u001b[38;5;241;43m.\u001b[39;49m\u001b[43mdata\u001b[49m\u001b[43m)\u001b[49m\u001b[38;5;241m.\u001b[39mdecode(\u001b[38;5;124m'\u001b[39m\u001b[38;5;124mascii\u001b[39m\u001b[38;5;124m'\u001b[39m)\n\u001b[0;32m   1033\u001b[0m \u001b[38;5;28;01mexcept\u001b[39;00m \u001b[38;5;167;01mTypeError\u001b[39;00m \u001b[38;5;28;01mas\u001b[39;00m e:\n",
      "\u001b[1;31mTypeError\u001b[0m: a bytes-like object is required, not 'str'",
      "\nThe above exception was the direct cause of the following exception:\n",
      "\u001b[1;31mFileNotFoundError\u001b[0m                         Traceback (most recent call last)",
      "File \u001b[1;32m~\\AppData\\Local\\Programs\\Python\\Python310\\lib\\site-packages\\IPython\\core\\formatters.py:343\u001b[0m, in \u001b[0;36mBaseFormatter.__call__\u001b[1;34m(self, obj)\u001b[0m\n\u001b[0;32m    341\u001b[0m     method \u001b[38;5;241m=\u001b[39m get_real_method(obj, \u001b[38;5;28mself\u001b[39m\u001b[38;5;241m.\u001b[39mprint_method)\n\u001b[0;32m    342\u001b[0m     \u001b[38;5;28;01mif\u001b[39;00m method \u001b[38;5;129;01mis\u001b[39;00m \u001b[38;5;129;01mnot\u001b[39;00m \u001b[38;5;28;01mNone\u001b[39;00m:\n\u001b[1;32m--> 343\u001b[0m         \u001b[38;5;28;01mreturn\u001b[39;00m \u001b[43mmethod\u001b[49m\u001b[43m(\u001b[49m\u001b[43m)\u001b[49m\n\u001b[0;32m    344\u001b[0m     \u001b[38;5;28;01mreturn\u001b[39;00m \u001b[38;5;28;01mNone\u001b[39;00m\n\u001b[0;32m    345\u001b[0m \u001b[38;5;28;01melse\u001b[39;00m:\n",
      "File \u001b[1;32m~\\AppData\\Local\\Programs\\Python\\Python310\\lib\\site-packages\\IPython\\core\\display.py:1054\u001b[0m, in \u001b[0;36mImage._repr_png_\u001b[1;34m(self)\u001b[0m\n\u001b[0;32m   1052\u001b[0m \u001b[38;5;28;01mdef\u001b[39;00m \u001b[38;5;21m_repr_png_\u001b[39m(\u001b[38;5;28mself\u001b[39m):\n\u001b[0;32m   1053\u001b[0m     \u001b[38;5;28;01mif\u001b[39;00m \u001b[38;5;28mself\u001b[39m\u001b[38;5;241m.\u001b[39membed \u001b[38;5;129;01mand\u001b[39;00m \u001b[38;5;28mself\u001b[39m\u001b[38;5;241m.\u001b[39mformat \u001b[38;5;241m==\u001b[39m \u001b[38;5;28mself\u001b[39m\u001b[38;5;241m.\u001b[39m_FMT_PNG:\n\u001b[1;32m-> 1054\u001b[0m         \u001b[38;5;28;01mreturn\u001b[39;00m \u001b[38;5;28;43mself\u001b[39;49m\u001b[38;5;241;43m.\u001b[39;49m\u001b[43m_data_and_metadata\u001b[49m\u001b[43m(\u001b[49m\u001b[43m)\u001b[49m\n",
      "File \u001b[1;32m~\\AppData\\Local\\Programs\\Python\\Python310\\lib\\site-packages\\IPython\\core\\display.py:1034\u001b[0m, in \u001b[0;36mImage._data_and_metadata\u001b[1;34m(self, always_both)\u001b[0m\n\u001b[0;32m   1032\u001b[0m     b64_data \u001b[38;5;241m=\u001b[39m b2a_base64(\u001b[38;5;28mself\u001b[39m\u001b[38;5;241m.\u001b[39mdata)\u001b[38;5;241m.\u001b[39mdecode(\u001b[38;5;124m'\u001b[39m\u001b[38;5;124mascii\u001b[39m\u001b[38;5;124m'\u001b[39m)\n\u001b[0;32m   1033\u001b[0m \u001b[38;5;28;01mexcept\u001b[39;00m \u001b[38;5;167;01mTypeError\u001b[39;00m \u001b[38;5;28;01mas\u001b[39;00m e:\n\u001b[1;32m-> 1034\u001b[0m     \u001b[38;5;28;01mraise\u001b[39;00m \u001b[38;5;167;01mFileNotFoundError\u001b[39;00m(\n\u001b[0;32m   1035\u001b[0m         \u001b[38;5;124m\"\u001b[39m\u001b[38;5;124mNo such file or directory: \u001b[39m\u001b[38;5;124m'\u001b[39m\u001b[38;5;132;01m%s\u001b[39;00m\u001b[38;5;124m'\u001b[39m\u001b[38;5;124m\"\u001b[39m \u001b[38;5;241m%\u001b[39m (\u001b[38;5;28mself\u001b[39m\u001b[38;5;241m.\u001b[39mdata)) \u001b[38;5;28;01mfrom\u001b[39;00m \u001b[38;5;21;01me\u001b[39;00m\n\u001b[0;32m   1036\u001b[0m md \u001b[38;5;241m=\u001b[39m {}\n\u001b[0;32m   1037\u001b[0m \u001b[38;5;28;01mif\u001b[39;00m \u001b[38;5;28mself\u001b[39m\u001b[38;5;241m.\u001b[39mmetadata:\n",
      "\u001b[1;31mFileNotFoundError\u001b[0m: No such file or directory: 'Funcionamiento del programa.pdf'"
     ]
    },
    {
     "data": {
      "text/plain": [
       "<IPython.core.display.Image object>"
      ]
     },
     "execution_count": 2,
     "metadata": {},
     "output_type": "execute_result"
    }
   ],
   "source": [
    "dp.Image(\"Funcionamiento del programa.png\")"
   ]
  },
  {
   "cell_type": "markdown",
   "id": "e63d0494-c10b-466a-8630-ffb4af5fc3ec",
   "metadata": {},
   "source": [
    "Utilizo el mismo color, ya que la nueva actualización de windows 11 no me deja dar un color individual a cada ventana"
   ]
  },
  {
   "cell_type": "markdown",
   "id": "88da0503-023e-40f9-a99b-c4d27bad398c",
   "metadata": {},
   "source": [
    "#### Cabe recalcal que he utilizado los primeros 5 números de mi expediente como puerto ya que los últimos 5 superaban el máximo"
   ]
  },
  {
   "cell_type": "markdown",
   "id": "58ee7ee6-4f49-4743-8624-1c1afe9acb69",
   "metadata": {},
   "source": [
    "##### 1ª Para empezar lanzamos el servidor \n",
    "##### 2ª Le damos el puerto que vamos a usar y copiamos la IP que devuelve el powershell\n",
    "##### 3ª Anotamos IP y puerto y lanzamos el cliente introducimos IP y puerto\n",
    "##### 4ª Damos nuestro nick\n",
    "##### 5ª Podemos mandar los mensajes y ver la información mostrada arriba \n",
    "##### 6ª Para salir del programa (servidor y cliente) escribimos un \"1\" por terminal"
   ]
  },
  {
   "cell_type": "code",
   "execution_count": null,
   "id": "8571ba78-968c-4676-9ca4-a6bd281a1178",
   "metadata": {},
   "outputs": [],
   "source": []
  }
 ],
 "metadata": {
  "kernelspec": {
   "display_name": "Python 3 (ipykernel)",
   "language": "python",
   "name": "python3"
  },
  "language_info": {
   "codemirror_mode": {
    "name": "ipython",
    "version": 3
   },
   "file_extension": ".py",
   "mimetype": "text/x-python",
   "name": "python",
   "nbconvert_exporter": "python",
   "pygments_lexer": "ipython3",
   "version": "3.10.7"
  }
 },
 "nbformat": 4,
 "nbformat_minor": 5
}
