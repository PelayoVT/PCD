{
 "cells": [
  {
   "cell_type": "code",
   "execution_count": null,
   "id": "81abfd57-5c64-4fb0-8732-747c5568e7b0",
   "metadata": {},
   "outputs": [],
   "source": [
    "<h1 style = \"text-align:center; font-size: 30px\">PROGRAMACIÓN CONCURRENTE Y DISTRIBUIDA</h1>\n",
    "<a href =\"https://github.com/PelayoVT\">\n",
    "<img src=\"https://avatars.githubusercontent.com/u/102515287?v=4\" style=\"float:left;vertical-align:centre\" width=\"110\" height=\"110\" title = \"Pelayo Vázquez Toledo 22166209\">\n",
    "<a href =\"https://github.com/PelayoVT?tab=repositories\">\n",
    "<img src=\"https://media-exp1.licdn.com/dms/image/C4D0BAQEu_Aa76fcmPw/company-logo_200_200/0/1630998679429?e=2159024400&v=beta&t=2feC9GG7RWCWizTqsK5HzDWB1TL2DOQuAVwnMf6FFvk\" title = \"M21\" alt=\"UE\" width=\"110\" height=\"110\" style=\"float:right;vertical-align:centre\">"
   ]
  },
  {
   "cell_type": "markdown",
   "id": "c55aea5a-a952-4336-ad1b-c385274e5811",
   "metadata": {},
   "source": [
    "# Prueba de que mi pc es una mie..?"
   ]
  }
 ],
 "metadata": {
  "kernelspec": {
   "display_name": "Python 3 (ipykernel)",
   "language": "python",
   "name": "python3"
  },
  "language_info": {
   "codemirror_mode": {
    "name": "ipython",
    "version": 3
   },
   "file_extension": ".py",
   "mimetype": "text/x-python",
   "name": "python",
   "nbconvert_exporter": "python",
   "pygments_lexer": "ipython3",
   "version": "3.10.7"
  }
 },
 "nbformat": 4,
 "nbformat_minor": 5
}
