{
 "cells": [
  {
   "cell_type": "markdown",
   "id": "bed927a5-7eb3-433e-a230-b7d019820fdd",
   "metadata": {},
   "source": [
    "<h1 style = \"text-align:center; font-size: 30px\">PROGRAMACIÓN CONCURRENTE Y DISTRIBUIDA</h1>\n",
    "<a href =\"https://github.com/PelayoVT\">\n",
    "<img src=\"https://avatars.githubusercontent.com/u/102515287?v=4\" style=\"float:left;vertical-align:centre\" width=\"110\" height=\"110\" title = \"Pelayo Vázquez Toledo 22166209\">\n",
    "<a href =\"https://github.com/PelayoVT?tab=repositories\">\n",
    "<img src=\"https://media-exp1.licdn.com/dms/image/C4D0BAQEu_Aa76fcmPw/company-logo_200_200/0/1630998679429?e=2159024400&v=beta&t=2feC9GG7RWCWizTqsK5HzDWB1TL2DOQuAVwnMf6FFvk\" title = \"M21\" alt=\"UE\" width=\"110\" height=\"110\" style=\"float:right;vertical-align:centre\">\n"
   ]
  },
  {
   "cell_type": "markdown",
   "id": "6dc794e4-785c-4539-82f3-7f5c2cd31a12",
   "metadata": {},
   "source": [
    "# Práctica examen"
   ]
  },
  {
   "cell_type": "markdown",
   "id": "2cf8f11e-c179-4563-8f05-12b2090b5d3e",
   "metadata": {},
   "source": [
    "#### Debéis atacar a las siguientes urls:\n",
    "\n",
    "##### https://github.com/sukuzhanay      100 hilos\n",
    "\n",
    "##### https://www.linkedin.com/in/sucuzhanay/    50 hilos\n",
    "\n",
    "##### https://www.credly.com/users/christian-vladimir-sucuzhanay-arevalo/badges 20 hilos\n",
    "\n",
    "##### https://stackoverflow.com/users/6025932/christian-vladimir-sucuzhanay 30 hilos\n",
    "\n",
    "##### https://www.cloudskillsboost.google/public_profiles/c094dd66-f266-4f77-a808-a0601b187009 20 hilos"
   ]
  },
  {
   "cell_type": "code",
   "execution_count": 3,
   "id": "f71e7610-80ab-453f-b897-39e3bd6fbab2",
   "metadata": {},
   "outputs": [],
   "source": [
    "import threading, os, platform, requests, json"
   ]
  },
  {
   "cell_type": "code",
   "execution_count": 5,
   "id": "78d231a7-a9b6-4a62-8511-091e7e7df6fc",
   "metadata": {},
   "outputs": [],
   "source": [
    "hilos_= 100\n",
    "hilos_1= 50\n",
    "hilos_2= 20\n",
    "hilos_3= 30\n",
    "hilos_4= 20"
   ]
  },
  {
   "cell_type": "code",
   "execution_count": 6,
   "id": "844fde4f-3b3b-4b9c-964d-aa4e132a2947",
   "metadata": {},
   "outputs": [],
   "source": [
    "url_=\"https://github.com/sukuzhanay\"\n",
    "url_1=\"https://www.linkedin.com/in/sucuzhanay/\"\n",
    "url_2=\"https://www.credly.com/users/christian-vladimir-sucuzhanay-arevalo/badges\"\n",
    "url_3=\"https://stackoverflow.com/users/6025932/christian-vladimir-sucuzhanay\"\n",
    "url_4=\"https://www.cloudskillsboost.google/public_profiles/c094dd66-f266-4f77-a808-a0601b187009\""
   ]
  },
  {
   "cell_type": "code",
   "execution_count": 7,
   "id": "c9567771-1a32-438f-9849-fa08a1b2e924",
   "metadata": {},
   "outputs": [],
   "source": [
    "def matar_() :\n",
    "    print(requests.get(url_))\n",
    "    threading.current_thread()\n",
    "    \n",
    "def matar_1() :\n",
    "    print(requests.get(url_1))\n",
    "    threading.current_thread()\n",
    "    \n",
    "def matar_2() :\n",
    "    print(requests.get(url_2))\n",
    "    threading.current_thread()\n",
    "    \n",
    "def matar_3() :\n",
    "    print(requests.get(url_3))\n",
    "    threading.current_thread()\n",
    "    \n",
    "def matar_4() :\n",
    "    print(requests.get(url_4))\n",
    "    threading.current_thread()"
   ]
  },
  {
   "cell_type": "code",
   "execution_count": 9,
   "id": "3f90c36b-66cc-4cc4-937a-ef16040a1df4",
   "metadata": {},
   "outputs": [
    {
     "name": "stdout",
     "output_type": "stream",
     "text": [
      "<Response [200]>\n",
      "<Response [200]>\n",
      "<Response [200]>\n",
      "<Response [200]>\n",
      "<Response [200]>\n",
      "<Response [200]>\n",
      "<Response [200]>\n",
      "<Response [200]>\n",
      "<Response [200]>\n",
      "<Response [200]>\n",
      "<Response [200]>\n",
      "<Response [200]>\n",
      "<Response [200]>\n",
      "<Response [200]>\n",
      "<Response [200]>\n",
      "<Response [200]>\n",
      "<Response [200]>\n",
      "<Response [200]>\n",
      "<Response [200]>\n",
      "<Response [200]>\n",
      "<Response [200]>\n",
      "<Response [200]>\n",
      "<Response [200]>\n",
      "<Response [200]>\n",
      "<Response [200]>\n",
      "<Response [200]>\n",
      "<Response [200]>\n",
      "<Response [200]>\n",
      "<Response [200]>\n",
      "<Response [200]>\n",
      "<Response [200]>\n",
      "<Response [200]>\n",
      "<Response [200]>\n",
      "<Response [200]>\n",
      "<Response [200]>\n",
      "<Response [200]>\n",
      "<Response [200]>\n",
      "<Response [200]>\n",
      "<Response [200]>\n",
      "<Response [200]>\n",
      "<Response [200]>\n",
      "<Response [200]>\n",
      "<Response [200]>\n",
      "<Response [200]>\n",
      "<Response [200]>\n",
      "<Response [200]>\n",
      "<Response [200]>\n",
      "<Response [200]>\n",
      "<Response [200]>\n",
      "<Response [200]>\n",
      "<Response [200]>\n",
      "<Response [200]>\n",
      "<Response [200]>\n",
      "<Response [200]>\n",
      "<Response [200]>\n",
      "<Response [200]>\n",
      "<Response [200]>\n",
      "<Response [200]>\n",
      "<Response [200]>\n",
      "<Response [200]>\n",
      "<Response [200]>\n",
      "<Response [200]>\n",
      "<Response [200]>\n",
      "<Response [200]>\n",
      "<Response [200]>\n",
      "<Response [200]>\n",
      "<Response [200]>\n",
      "<Response [200]>\n",
      "<Response [200]>\n",
      "<Response [200]>\n",
      "<Response [200]>\n",
      "<Response [200]>\n",
      "<Response [200]>\n",
      "<Response [200]>\n",
      "<Response [200]>\n",
      "<Response [200]>\n",
      "<Response [200]>\n",
      "<Response [200]>\n",
      "<Response [200]>\n",
      "<Response [200]>\n",
      "<Response [200]>\n",
      "<Response [200]>\n",
      "<Response [200]>\n",
      "<Response [200]>\n",
      "<Response [200]>\n",
      "<Response [200]>\n",
      "<Response [200]>\n",
      "<Response [200]>\n",
      "<Response [200]>\n",
      "<Response [200]>\n",
      "<Response [429]>\n",
      "<Response [429]>\n",
      "<Response [429]>\n",
      "<Response [429]>\n",
      "<Response [429]>\n",
      "<Response [429]>\n",
      "<Response [429]>\n",
      "<Response [429]>\n",
      "<Response [429]>\n",
      "<Response [429]>\n",
      "<Response [999]>\n",
      "<Response [999]>\n",
      "<Response [999]>\n",
      "<Response [999]>\n",
      "<Response [999]>\n",
      "<Response [999]>\n",
      "<Response [999]>\n",
      "<Response [999]>\n",
      "<Response [999]>\n",
      "<Response [999]>\n",
      "<Response [999]>\n",
      "<Response [999]>\n",
      "<Response [999]>\n",
      "<Response [999]>\n",
      "<Response [999]>\n",
      "<Response [999]>\n",
      "<Response [999]>\n",
      "<Response [999]>\n",
      "<Response [999]>\n",
      "<Response [999]>\n",
      "<Response [999]>\n",
      "<Response [999]>\n",
      "<Response [999]>\n",
      "<Response [999]>\n",
      "<Response [999]>\n",
      "<Response [999]>\n",
      "<Response [999]>\n",
      "<Response [999]>\n",
      "<Response [999]>\n",
      "<Response [999]>\n",
      "<Response [999]>\n",
      "<Response [999]>\n",
      "<Response [999]>\n",
      "<Response [999]>\n",
      "<Response [999]>\n",
      "<Response [999]>\n",
      "<Response [999]>\n",
      "<Response [999]>\n",
      "<Response [999]>\n",
      "<Response [999]>\n",
      "<Response [999]>\n",
      "<Response [999]>\n",
      "<Response [999]>\n",
      "<Response [999]>\n",
      "<Response [999]>\n",
      "<Response [999]>\n",
      "<Response [999]>\n",
      "<Response [999]>\n",
      "<Response [999]>\n",
      "<Response [999]>\n",
      "<Response [200]>\n",
      "<Response [200]>\n",
      "<Response [200]>\n",
      "<Response [200]>\n",
      "<Response [200]>\n",
      "<Response [200]>\n",
      "<Response [200]>\n",
      "<Response [200]>\n",
      "<Response [200]>\n",
      "<Response [200]>\n",
      "<Response [200]>\n",
      "<Response [200]>\n",
      "<Response [200]>\n",
      "<Response [200]>\n",
      "<Response [200]>\n",
      "<Response [200]>\n",
      "<Response [200]>\n",
      "<Response [200]>\n",
      "<Response [200]>\n",
      "<Response [200]>\n",
      "<Response [200]>\n",
      "<Response [200]>\n",
      "<Response [200]>\n",
      "<Response [200]>\n",
      "<Response [200]>\n",
      "<Response [200]>\n",
      "<Response [200]>\n",
      "<Response [200]>\n",
      "<Response [200]>\n",
      "<Response [200]>\n",
      "<Response [200]>\n",
      "<Response [200]>\n",
      "<Response [200]>\n",
      "<Response [200]>\n",
      "<Response [200]>\n",
      "<Response [200]>\n",
      "<Response [200]>\n",
      "<Response [200]>\n",
      "<Response [200]>\n",
      "<Response [200]>\n",
      "<Response [200]>\n",
      "<Response [200]>\n",
      "<Response [200]>\n",
      "<Response [200]>\n",
      "<Response [200]>\n",
      "<Response [200]>\n",
      "<Response [200]>\n",
      "<Response [200]>\n",
      "<Response [200]>\n",
      "<Response [200]>\n",
      "<Response [200]>\n",
      "<Response [200]>\n",
      "<Response [200]>\n",
      "<Response [200]>\n",
      "<Response [200]>\n",
      "<Response [200]>\n",
      "<Response [200]>\n",
      "<Response [200]>\n",
      "<Response [200]>\n",
      "<Response [200]>\n",
      "<Response [200]>\n",
      "<Response [200]>\n",
      "<Response [200]>\n",
      "<Response [200]>\n",
      "<Response [200]>\n",
      "<Response [200]>\n",
      "<Response [200]>\n",
      "<Response [200]>\n",
      "<Response [200]>\n",
      "<Response [200]>\n"
     ]
    }
   ],
   "source": [
    "for i in range(hilos_):\n",
    "    threading.Thread(target=matar_()).start()\n",
    "    \n",
    "for i in range(hilos_1):\n",
    "    threading.Thread(target=matar_1()).start()\n",
    "    \n",
    "for i in range(hilos_2):\n",
    "    threading.Thread(target=matar_2()).start()\n",
    "    \n",
    "for i in range(hilos_3):\n",
    "    threading.Thread(target=matar_3()).start()\n",
    "    \n",
    "for i in range(hilos_4):\n",
    "    threading.Thread(target=matar_4()).start()"
   ]
  },
  {
   "cell_type": "markdown",
   "id": "9b7ee3a2-80f3-49d7-a922-f16782b257f1",
   "metadata": {},
   "source": [
    "### Mostramos una imagen enseñando por encima el comportamiento del ataque"
   ]
  },
  {
   "cell_type": "markdown",
   "id": "e01cf633-c1d5-478f-9df7-1408084a9450",
   "metadata": {},
   "source": [
    "#### Adjunto el HTTP Status Code primero"
   ]
  },
  {
   "cell_type": "markdown",
   "id": "804a5879-ab36-4681-8aa8-a021c9df5417",
   "metadata": {},
   "source": [
    "<img src=\"https://miro.medium.com/max/920/1*w_iicbG7L3xEQTArjHUS6g.jpeg\" width=\"400\">"
   ]
  },
  {
   "cell_type": "markdown",
   "id": "3717f2ff-5bb6-41c8-a073-f94ccbef7ddd",
   "metadata": {},
   "source": [
    "<img src=\"https://cdn.discordapp.com/attachments/932665008800792626/1030159701465387070/hilos.png\">"
   ]
  },
  {
   "cell_type": "markdown",
   "id": "cf0cb639-fa04-4d0f-ae84-9573e88828cf",
   "metadata": {},
   "source": [
    "### Ejercicio 2"
   ]
  },
  {
   "cell_type": "markdown",
   "id": "b8895cc1-4602-4322-9c05-e5f3f1b6562d",
   "metadata": {},
   "source": [
    "#### Debéis lanzar 5 hilos para descargar de la siguiente url: \n",
    "\n",
    "##### https://drive.google.com/uc?export=download&id=1ADxSr55eYTRSRF-44LXnKbY4n5bMWaY-"
   ]
  },
  {
   "cell_type": "code",
   "execution_count": 15,
   "id": "281de1ff-d8ad-4e3a-be30-f907eb4ad0a0",
   "metadata": {},
   "outputs": [],
   "source": [
    "url_dow=\"https://drive.google.com/uc?export=download&id=1ADxSr55eYTRSRF-44LXnKbY4n5bMWaY-\"\n",
    "hilos_dow= 5"
   ]
  },
  {
   "cell_type": "code",
   "execution_count": 16,
   "id": "339b0ad8-27c6-4daa-bfa6-5825ac34fdde",
   "metadata": {},
   "outputs": [],
   "source": [
    "nombre_dow= \"imagen.jpg\""
   ]
  },
  {
   "cell_type": "code",
   "execution_count": 17,
   "id": "3bff4811-d3f7-439d-afd0-8805576f594e",
   "metadata": {},
   "outputs": [],
   "source": [
    "imagen = requests.get(url_dow).content"
   ]
  },
  {
   "cell_type": "code",
   "execution_count": 20,
   "id": "84c4cee5-afdd-4613-a69d-e92193446f69",
   "metadata": {},
   "outputs": [
    {
     "ename": "SyntaxError",
     "evalue": "incomplete input (1634741342.py, line 1)",
     "output_type": "error",
     "traceback": [
      "\u001b[1;36m  Cell \u001b[1;32mIn [20], line 1\u001b[1;36m\u001b[0m\n\u001b[1;33m    with open(nombre_dow, 'wb') as handler:\u001b[0m\n\u001b[1;37m                                           ^\u001b[0m\n\u001b[1;31mSyntaxError\u001b[0m\u001b[1;31m:\u001b[0m incomplete input\n"
     ]
    }
   ],
   "source": [
    "with open(nombre_dow, 'wb') as handler"
   ]
  },
  {
   "cell_type": "code",
   "execution_count": 21,
   "id": "73c308e0-9022-4575-8a0c-14babf0a1841",
   "metadata": {},
   "outputs": [
    {
     "ename": "NameError",
     "evalue": "name 'handler' is not defined",
     "output_type": "error",
     "traceback": [
      "\u001b[1;31m---------------------------------------------------------------------------\u001b[0m",
      "\u001b[1;31mNameError\u001b[0m                                 Traceback (most recent call last)",
      "Cell \u001b[1;32mIn [21], line 1\u001b[0m\n\u001b[1;32m----> 1\u001b[0m \u001b[43mhandler\u001b[49m\u001b[38;5;241m.\u001b[39mwrite(imagen)\n",
      "\u001b[1;31mNameError\u001b[0m: name 'handler' is not defined"
     ]
    }
   ],
   "source": [
    "handler.write(imagen)"
   ]
  },
  {
   "cell_type": "code",
   "execution_count": null,
   "id": "478d1586-5488-4c49-8a38-53bb520614bc",
   "metadata": {},
   "outputs": [],
   "source": []
  }
 ],
 "metadata": {
  "kernelspec": {
   "display_name": "Python 3 (ipykernel)",
   "language": "python",
   "name": "python3"
  },
  "language_info": {
   "codemirror_mode": {
    "name": "ipython",
    "version": 3
   },
   "file_extension": ".py",
   "mimetype": "text/x-python",
   "name": "python",
   "nbconvert_exporter": "python",
   "pygments_lexer": "ipython3",
   "version": "3.10.7"
  }
 },
 "nbformat": 4,
 "nbformat_minor": 5
}
