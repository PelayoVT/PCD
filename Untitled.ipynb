{
 "cells": [
  {
   "cell_type": "code",
   "execution_count": null,
   "id": "67fc840e-e149-4126-bbef-a019053611e6",
   "metadata": {},
   "outputs": [],
   "source": [
    "<h1 style = \"text-align:center; font-size: 30px\">PROGRAMACIÓN CONCURRENTE Y DISTRIBUIDA</h1>\n",
    "<a href =\"https://github.com/PelayoVT\">\n",
    "<img src=\"https://avatars.githubusercontent.com/u/102515287?v=4\" style=\"float:left;vertical-align:centre\" width=\"110\" height=\"110\" title = \"Pelayo Vázquez Toledo 22166209\">\n",
    "<a href =\"https://github.com/PelayoVT?tab=repositories\">\n",
    "<img src=\"https://media-exp1.licdn.com/dms/image/C4D0BAQEu_Aa76fcmPw/company-logo_200_200/0/1630998679429?e=2159024400&v=beta&t=2feC9GG7RWCWizTqsK5HzDWB1TL2DOQuAVwnMf6FFvk\" title = \"M21\" alt=\"UE\" width=\"110\" height=\"110\" style=\"float:right;vertical-align:centre\">\n",
    "\n",
    "\n"
   ]
  },
  {
   "cell_type": "code",
   "execution_count": null,
   "id": "63339f4b-7e32-4d9b-9d0a-336f6162df22",
   "metadata": {},
   "outputs": [],
   "source": [
    "##Env. Setup, Important commands "
   ]
  },
  {
   "cell_type": "code",
   "execution_count": 4,
   "id": "0a99fc96-146e-4c2f-949f-3391a2052829",
   "metadata": {},
   "outputs": [
    {
     "name": "stdout",
     "output_type": "stream",
     "text": [
      " El volumen de la unidad C es Windows-SSD\n",
      " El n£mero de serie del volumen es: 2CE6-AAE7\n",
      "\n",
      " Directorio de C:\\Users\\pelay\\Desktop\\CODE\\Programaci¢n Concurrente\n",
      "\n",
      "\n",
      " Directorio de C:\\Users\\pelay\\Desktop\\CODE\\Programaci¢n Concurrente\n",
      "\n"
     ]
    },
    {
     "name": "stderr",
     "output_type": "stream",
     "text": [
      "No se encuentra el archivo\n"
     ]
    }
   ],
   "source": [
    "ls # list files"
   ]
  },
  {
   "cell_type": "code",
   "execution_count": 5,
   "id": "5c17c73b-b888-4cd1-a186-da3b2389d099",
   "metadata": {},
   "outputs": [
    {
     "data": {
      "text/plain": [
       "'C:\\\\Users\\\\pelay\\\\Desktop\\\\CODE\\\\Programación Concurrente'"
      ]
     },
     "execution_count": 5,
     "metadata": {},
     "output_type": "execute_result"
    }
   ],
   "source": [
    "pwd # where I´m"
   ]
  },
  {
   "cell_type": "code",
   "execution_count": 7,
   "id": "848f7b8c-282a-4807-99c4-59cd16384337",
   "metadata": {},
   "outputs": [
    {
     "name": "stdout",
     "output_type": "stream",
     "text": [
      "On branch master\n",
      "\n",
      "No commits yet\n",
      "\n",
      "nothing to commit (create/copy files and use \"git add\" to track)\n"
     ]
    }
   ],
   "source": [
    "!git status # Status info"
   ]
  },
  {
   "cell_type": "code",
   "execution_count": 1,
   "id": "f552fc6e-d640-4f36-9fb8-d2fa297e6166",
   "metadata": {},
   "outputs": [],
   "source": [
    "import os"
   ]
  },
  {
   "cell_type": "code",
   "execution_count": 2,
   "id": "2f123f48-c294-482b-bc55-33b8bc70f6b0",
   "metadata": {},
   "outputs": [
    {
     "data": {
      "text/plain": [
       "4"
      ]
     },
     "execution_count": 2,
     "metadata": {},
     "output_type": "execute_result"
    }
   ],
   "source": [
    "os.cpu_count()"
   ]
  },
  {
   "cell_type": "code",
   "execution_count": 3,
   "id": "1a61775d-81f0-4ede-8793-aadbade1983d",
   "metadata": {},
   "outputs": [
    {
     "data": {
      "text/plain": [
       "9516"
      ]
     },
     "execution_count": 3,
     "metadata": {},
     "output_type": "execute_result"
    }
   ],
   "source": [
    "os.getpid()"
   ]
  },
  {
   "cell_type": "code",
   "execution_count": 1,
   "id": "475ff9a2-0545-4ba8-9e04-7d6bb74ae564",
   "metadata": {},
   "outputs": [],
   "source": [
    "import platform as pl"
   ]
  },
  {
   "cell_type": "code",
   "execution_count": 2,
   "id": "c548af4c-398c-42ed-9a90-166c8e974d44",
   "metadata": {},
   "outputs": [
    {
     "data": {
      "text/plain": [
       "'3.10.7'"
      ]
     },
     "execution_count": 2,
     "metadata": {},
     "output_type": "execute_result"
    }
   ],
   "source": [
    "pl.python_version()"
   ]
  },
  {
   "cell_type": "code",
   "execution_count": 3,
   "id": "0d05d5f7-a575-4889-a490-8855799e0c31",
   "metadata": {},
   "outputs": [
    {
     "data": {
      "text/plain": [
       "'C:\\\\Users\\\\pelay\\\\Desktop\\\\CODE\\\\Programación Concurrente'"
      ]
     },
     "execution_count": 3,
     "metadata": {},
     "output_type": "execute_result"
    }
   ],
   "source": [
    "pwd"
   ]
  },
  {
   "cell_type": "code",
   "execution_count": null,
   "id": "55666d67-b76c-4d54-9ae3-c5d93aace2ed",
   "metadata": {},
   "outputs": [],
   "source": []
  }
 ],
 "metadata": {
  "kernelspec": {
   "display_name": "Python 3 (ipykernel)",
   "language": "python",
   "name": "python3"
  },
  "language_info": {
   "codemirror_mode": {
    "name": "ipython",
    "version": 3
   },
   "file_extension": ".py",
   "mimetype": "text/x-python",
   "name": "python",
   "nbconvert_exporter": "python",
   "pygments_lexer": "ipython3",
   "version": "3.10.7"
  }
 },
 "nbformat": 4,
 "nbformat_minor": 5
}
