{
 "cells": [
  {
   "cell_type": "code",
   "execution_count": null,
   "id": "65530707-84f0-43b7-aaac-713ee826ba93",
   "metadata": {},
   "outputs": [],
   "source": [
    "<h1 style = \"text-align:center; font-size: 30px\">PROGRAMACIÓN CONCURRENTE Y DISTRIBUIDA</h1>\n",
    "<a href =\"https://github.com/PelayoVT\">\n",
    "<img src=\"https://avatars.githubusercontent.com/u/102515287?v=4\" style=\"float:left;vertical-align:centre\" width=\"110\" height=\"110\" title = \"Pelayo Vázquez Toledo 22166209\">\n",
    "<a href =\"https://github.com/PelayoVT?tab=repositories\">\n",
    "<img src=\"https://media-exp1.licdn.com/dms/image/C4D0BAQEu_Aa76fcmPw/company-logo_200_200/0/1630998679429?e=2159024400&v=beta&t=2feC9GG7RWCWizTqsK5HzDWB1TL2DOQuAVwnMf6FFvk\" title = \"M21\" alt=\"UE\" width=\"110\" height=\"110\" style=\"float:right;vertical-align:centre\">\n"
   ]
  },
  {
   "cell_type": "markdown",
   "id": "4a4a3db9-28b9-4eb8-8dae-7a8e75032b97",
   "metadata": {},
   "source": [
    "# Hands on 3"
   ]
  },
  {
   "cell_type": "code",
   "execution_count": 3,
   "id": "cc6c487f-3c10-404e-b66e-5786e3645c80",
   "metadata": {},
   "outputs": [],
   "source": [
    "import multiprocessing as mp, threading as th"
   ]
  },
  {
   "cell_type": "code",
   "execution_count": null,
   "id": "62c47569-002b-4a80-818c-7ac0eca2a067",
   "metadata": {},
   "outputs": [],
   "source": [
    "mp."
   ]
  }
 ],
 "metadata": {
  "kernelspec": {
   "display_name": "Python 3 (ipykernel)",
   "language": "python",
   "name": "python3"
  },
  "language_info": {
   "codemirror_mode": {
    "name": "ipython",
    "version": 3
   },
   "file_extension": ".py",
   "mimetype": "text/x-python",
   "name": "python",
   "nbconvert_exporter": "python",
   "pygments_lexer": "ipython3",
   "version": "3.10.7"
  }
 },
 "nbformat": 4,
 "nbformat_minor": 5
}
