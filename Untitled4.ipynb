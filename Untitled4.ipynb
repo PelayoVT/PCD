{
 "cells": [
  {
   "cell_type": "markdown",
   "id": "8c62e1cd-ac6a-4f47-aab0-2ad4deb5256f",
   "metadata": {},
   "source": [
    "<h1 style = \"text-align:center; font-size: 30px\">PROGRAMACIÓN CONCURRENTE Y DISTRIBUIDA</h1>\n",
    "<a href =\"https://github.com/PelayoVT\">\n",
    "<img src=\"https://avatars.githubusercontent.com/u/102515287?v=4\" style=\"float:left;vertical-align:centre\" width=\"110\" height=\"110\" title = \"Pelayo Vázquez Toledo 22166209\">\n",
    "<a href =\"https://github.com/PelayoVT?tab=repositories\">\n",
    "<img src=\"https://media-exp1.licdn.com/dms/image/C4D0BAQEu_Aa76fcmPw/company-logo_200_200/0/1630998679429?e=2159024400&v=beta&t=2feC9GG7RWCWizTqsK5HzDWB1TL2DOQuAVwnMf6FFvk\" title = \"M21\" alt=\"UE\" width=\"110\" height=\"110\" style=\"float:right;vertical-align:centre\">\n"
   ]
  },
  {
   "cell_type": "markdown",
   "id": "7c134f83-4e70-44d8-8e1a-d13eff9e6fe5",
   "metadata": {},
   "source": [
    "# Hands on 4"
   ]
  },
  {
   "cell_type": "code",
   "execution_count": 4,
   "id": "0a761a1d-e744-49b7-8c18-f36877244ff7",
   "metadata": {},
   "outputs": [],
   "source": [
    "import threading, os, platform , requests, json"
   ]
  },
  {
   "cell_type": "code",
   "execution_count": 2,
   "id": "4037a04a-2dd7-4a67-ada4-10e30e9ae76d",
   "metadata": {},
   "outputs": [],
   "source": [
    "numero_de_veces_hasta_matar_uem = 100000"
   ]
  },
  {
   "cell_type": "code",
   "execution_count": 17,
   "id": "91906f34-dc1b-472d-9999-3631aff6daf8",
   "metadata": {},
   "outputs": [],
   "source": [
    "url_=\"https://portaldelestudiante.universidadeuropea.es/\""
   ]
  },
  {
   "cell_type": "markdown",
   "id": "f6f22e64-93f5-4ebd-b59e-92c71219242f",
   "metadata": {},
   "source": [
    "## Https code:"
   ]
  },
  {
   "cell_type": "markdown",
   "id": "8618db3d-cb9e-48b3-a859-6431295dfbd8",
   "metadata": {},
   "source": [
    "<img src=\"https://miro.medium.com/max/920/1*w_iicbG7L3xEQTArjHUS6g.jpeg\" width=\"400\">"
   ]
  },
  {
   "cell_type": "code",
   "execution_count": 11,
   "id": "94cfd6c9-984a-4f6c-820e-5ff2433df5f7",
   "metadata": {},
   "outputs": [],
   "source": [
    "def matar_uem() :\n",
    "    print(requests.get(url_))\n",
    "    threading.current_thread()"
   ]
  },
  {
   "cell_type": "code",
   "execution_count": null,
   "id": "fe706ff9-f5ee-41de-a939-e1d1d9f5f105",
   "metadata": {},
   "outputs": [],
   "source": [
    "for i in range(numero_de_veces_hasta_matar_uem):\n",
    "    threading.Thread(target=matar_uem()).start()"
   ]
  },
  {
   "cell_type": "markdown",
   "id": "0324911d-d58f-473b-a855-84a991c1ba11",
   "metadata": {},
   "source": [
    "###### Al principio hay exito, hasta que da error del servidor.\n",
    "###### Se genera una incoherencia de los datos, ya que muestra success después del error del servidor (fallo de concurrencia)"
   ]
  },
  {
   "cell_type": "code",
   "execution_count": 15,
   "id": "f881f5ce-4224-4b6c-8451-791eadbc7c34",
   "metadata": {},
   "outputs": [],
   "source": [
    "res_=requests.get(\"https://rpubs.com/christian_sucuzhanay\")"
   ]
  },
  {
   "cell_type": "code",
   "execution_count": 16,
   "id": "00b85c05-2361-483a-9752-7857a46b7b88",
   "metadata": {},
   "outputs": [
    {
     "data": {
      "text/plain": [
       "{'Date': 'Thu, 06 Oct 2022 16:20:44 GMT', 'Content-Type': 'text/html; charset=utf-8', 'Transfer-Encoding': 'chunked', 'Connection': 'keep-alive', 'Status': '200 OK', 'Cache-Control': 'max-age=0, private, must-revalidate', 'Referrer-Policy': 'strict-origin-when-cross-origin', 'X-Permitted-Cross-Domain-Policies': 'none', 'X-XSS-Protection': '1; mode=block', 'X-Request-Id': '0010e301-8b95-483a-8029-34b7180c3755', 'X-Download-Options': 'noopen', 'ETag': 'W/\"20841ca789d9791c36b3ddbfbfd03199\"', 'X-Frame-Options': 'SAMEORIGIN', 'X-Runtime': '0.055652', 'X-Content-Type-Options': 'nosniff', 'Set-Cookie': '_session_id=acc55c18e2ee098ec7ae14e23208acf9; path=/; HttpOnly', 'X-Powered-By': 'Phusion Passenger 6.0.2', 'Server': 'nginx/1.14.0 + Phusion Passenger 6.0.2', 'Content-Encoding': 'gzip'}"
      ]
     },
     "execution_count": 16,
     "metadata": {},
     "output_type": "execute_result"
    }
   ],
   "source": [
    "res_.headers"
   ]
  },
  {
   "cell_type": "code",
   "execution_count": null,
   "id": "a44f0a2f-f911-432c-9c67-abf99e926e35",
   "metadata": {},
   "outputs": [],
   "source": [
    "html"
   ]
  }
 ],
 "metadata": {
  "kernelspec": {
   "display_name": "Python 3 (ipykernel)",
   "language": "python",
   "name": "python3"
  },
  "language_info": {
   "codemirror_mode": {
    "name": "ipython",
    "version": 3
   },
   "file_extension": ".py",
   "mimetype": "text/x-python",
   "name": "python",
   "nbconvert_exporter": "python",
   "pygments_lexer": "ipython3",
   "version": "3.10.7"
  }
 },
 "nbformat": 4,
 "nbformat_minor": 5
}
