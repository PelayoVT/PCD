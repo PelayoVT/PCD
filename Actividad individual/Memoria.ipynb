{
 "cells": [
  {
   "cell_type": "markdown",
   "id": "e0783bbd-f3e9-4e7c-a6ce-be643656a63d",
   "metadata": {},
   "source": [
    "<h1 style = \"text-align:center; font-size: 30px\">PROGRAMACIÓN CONCURRENTE Y DISTRIBUIDA</h1>\n",
    "<a href =\"https://github.com/PelayoVT\">\n",
    "<img src=\"https://avatars.githubusercontent.com/u/102515287?v=4\" style=\"float:left;vertical-align:centre\" width=\"110\" height=\"110\" title = \"Pelayo Vázquez Toledo 22166209\">\n",
    "<a href =\"https://github.com/PelayoVT/PCD\">\n",
    "<img src=\"https://media-exp1.licdn.com/dms/image/C4D0BAQEu_Aa76fcmPw/company-logo_200_200/0/1630998679429?e=2159024400&v=beta&t=2feC9GG7RWCWizTqsK5HzDWB1TL2DOQuAVwnMf6FFvk\" title = \"M21\" alt=\"UE\" width=\"110\" height=\"110\" style=\"float:right;vertical-align:centre\">\n"
   ]
  },
  {
   "cell_type": "markdown",
   "id": "c19359a7-2f5f-4a84-ab35-bdab947b52a9",
   "metadata": {},
   "source": [
    "# Memoria Actividad Individual I "
   ]
  },
  {
   "cell_type": "code",
   "execution_count": null,
   "id": "44bcae5c-7bda-4b41-8944-07ea34632eed",
   "metadata": {},
   "outputs": [],
   "source": []
  }
 ],
 "metadata": {
  "kernelspec": {
   "display_name": "Python 3 (ipykernel)",
   "language": "python",
   "name": "python3"
  },
  "language_info": {
   "codemirror_mode": {
    "name": "ipython",
    "version": 3
   },
   "file_extension": ".py",
   "mimetype": "text/x-python",
   "name": "python",
   "nbconvert_exporter": "python",
   "pygments_lexer": "ipython3",
   "version": "3.10.7"
  }
 },
 "nbformat": 4,
 "nbformat_minor": 5
}
